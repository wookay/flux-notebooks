{
 "cells": [
  {
   "cell_type": "markdown",
   "metadata": {},
   "source": [
    "- https://github.com/MikeInnes/Flux.jl/blob/master/test/basic.jl\n",
    "- https://github.com/MikeInnes/Flux.jl/blob/master/docs/src/models/basics.md"
   ]
  },
  {
   "cell_type": "markdown",
   "metadata": {},
   "source": [
    "- affine function\n",
    "\n",
    "```\n",
    "  Summary:\n",
    "  mutable struct Flux.Affine <: Flux.Model\n",
    "\n",
    "  Fields:\n",
    "  W :: Any\n",
    "  b :: Any\n",
    "```"
   ]
  },
  {
   "cell_type": "code",
   "execution_count": 1,
   "metadata": {
    "collapsed": false
   },
   "outputs": [],
   "source": [
    "using Flux"
   ]
  },
  {
   "cell_type": "code",
   "execution_count": 2,
   "metadata": {
    "collapsed": false
   },
   "outputs": [
    {
     "data": {
      "text/plain": [
       "MersenneTwister(UInt32[0x00000000], Base.dSFMT.DSFMT_state(Int32[748398797, 1073523691, -1738140313, 1073664641, -1492392947, 1073490074, -1625281839, 1073254801, 1875112882, 1073717145  …  943540191, 1073626624, 1091647724, 1073372234, -1273625233, -823628301, 835224507, 991807863, 382, 0]), [1.18005, 1.75252, 1.4937, 1.04337, 1.03882, 1.51092, 1.16191, 1.15197, 1.98691, 1.90343  …  1.11693, 1.90429, 1.93763, 1.68889, 1.40521, 1.80207, 1.64146, 1.54184, 1.21708, 1.83337], 382)"
      ]
     },
     "execution_count": 2,
     "metadata": {},
     "output_type": "execute_result"
    }
   ],
   "source": [
    "srand(0)"
   ]
  },
  {
   "cell_type": "code",
   "execution_count": 3,
   "metadata": {
    "collapsed": false
   },
   "outputs": [
    {
     "data": {
      "text/plain": [
       "Flux.Affine(Param(10, 20), Param(1, 20))"
      ]
     },
     "execution_count": 3,
     "metadata": {},
     "output_type": "execute_result"
    }
   ],
   "source": [
    "d = Affine(10, 20)"
   ]
  },
  {
   "cell_type": "code",
   "execution_count": 4,
   "metadata": {
    "collapsed": false
   },
   "outputs": [
    {
     "data": {
      "text/plain": [
       "Param(10, 20)"
      ]
     },
     "execution_count": 4,
     "metadata": {},
     "output_type": "execute_result"
    }
   ],
   "source": [
    "d.W"
   ]
  },
  {
   "cell_type": "code",
   "execution_count": 5,
   "metadata": {
    "collapsed": false
   },
   "outputs": [
    {
     "data": {
      "text/plain": [
       "Param(1, 20)"
      ]
     },
     "execution_count": 5,
     "metadata": {},
     "output_type": "execute_result"
    }
   ],
   "source": [
    "d.b"
   ]
  },
  {
   "cell_type": "code",
   "execution_count": 6,
   "metadata": {
    "collapsed": false
   },
   "outputs": [
    {
     "data": {
      "text/plain": [
       "10×20 Array{Float64,2}:\n",
       "  0.00679107   -0.00688907  -0.00117138   …   0.00506347  -0.01596   \n",
       "  0.00828413   -0.00762804  -0.00601254       0.0112144   -0.0099587 \n",
       " -0.00353007    0.00397482   0.0114228       -0.00119061  -0.00608836\n",
       " -0.00134854    0.0081163   -0.000886163      0.0117359   -0.0179251 \n",
       "  0.00586617   -0.00346355   0.00279466       0.0102947   -0.0114456 \n",
       "  0.00297336   -0.00187573   0.00111422   …   0.018859    -0.0228392 \n",
       "  0.000649475  -0.0160726   -0.00357884       0.0196753   -0.0211102 \n",
       " -0.00109017   -0.0248079    0.00473714      -0.00330554   0.0121933 \n",
       " -0.0051421     0.0227623    0.00300234       0.0161578   -0.00222105\n",
       "  0.0157433     0.00219693  -0.00762677      -0.00428635  -0.0100243 "
      ]
     },
     "execution_count": 6,
     "metadata": {},
     "output_type": "execute_result"
    }
   ],
   "source": [
    "d.W.x"
   ]
  },
  {
   "cell_type": "code",
   "execution_count": 7,
   "metadata": {
    "collapsed": false
   },
   "outputs": [
    {
     "data": {
      "text/plain": [
       "10×20 Array{Float64,2}:\n",
       " 0.0  0.0  0.0  0.0  0.0  0.0  0.0  0.0  …  0.0  0.0  0.0  0.0  0.0  0.0  0.0\n",
       " 0.0  0.0  0.0  0.0  0.0  0.0  0.0  0.0     0.0  0.0  0.0  0.0  0.0  0.0  0.0\n",
       " 0.0  0.0  0.0  0.0  0.0  0.0  0.0  0.0     0.0  0.0  0.0  0.0  0.0  0.0  0.0\n",
       " 0.0  0.0  0.0  0.0  0.0  0.0  0.0  0.0     0.0  0.0  0.0  0.0  0.0  0.0  0.0\n",
       " 0.0  0.0  0.0  0.0  0.0  0.0  0.0  0.0     0.0  0.0  0.0  0.0  0.0  0.0  0.0\n",
       " 0.0  0.0  0.0  0.0  0.0  0.0  0.0  0.0  …  0.0  0.0  0.0  0.0  0.0  0.0  0.0\n",
       " 0.0  0.0  0.0  0.0  0.0  0.0  0.0  0.0     0.0  0.0  0.0  0.0  0.0  0.0  0.0\n",
       " 0.0  0.0  0.0  0.0  0.0  0.0  0.0  0.0     0.0  0.0  0.0  0.0  0.0  0.0  0.0\n",
       " 0.0  0.0  0.0  0.0  0.0  0.0  0.0  0.0     0.0  0.0  0.0  0.0  0.0  0.0  0.0\n",
       " 0.0  0.0  0.0  0.0  0.0  0.0  0.0  0.0     0.0  0.0  0.0  0.0  0.0  0.0  0.0"
      ]
     },
     "execution_count": 7,
     "metadata": {},
     "output_type": "execute_result"
    }
   ],
   "source": [
    "d.W.Δx"
   ]
  },
  {
   "cell_type": "code",
   "execution_count": 8,
   "metadata": {
    "collapsed": false
   },
   "outputs": [
    {
     "data": {
      "text/plain": [
       "1×20 Array{Float64,2}:\n",
       " -0.0050376  0.000646768  0.00907637  …  0.00170295  0.0138056  -0.0035672"
      ]
     },
     "execution_count": 8,
     "metadata": {},
     "output_type": "execute_result"
    }
   ],
   "source": [
    "d.b.x"
   ]
  },
  {
   "cell_type": "code",
   "execution_count": 9,
   "metadata": {
    "collapsed": false
   },
   "outputs": [
    {
     "data": {
      "text/plain": [
       "1×20 Array{Float64,2}:\n",
       " 0.0  0.0  0.0  0.0  0.0  0.0  0.0  0.0  …  0.0  0.0  0.0  0.0  0.0  0.0  0.0"
      ]
     },
     "execution_count": 9,
     "metadata": {},
     "output_type": "execute_result"
    }
   ],
   "source": [
    "d.b.Δx"
   ]
  },
  {
   "cell_type": "code",
   "execution_count": 10,
   "metadata": {
    "collapsed": false
   },
   "outputs": [
    {
     "data": {
      "text/plain": [
       "10-element Array{Float64,1}:\n",
       "  0.690177\n",
       "  0.635446\n",
       " -0.999397\n",
       " -1.09674 \n",
       "  0.508151\n",
       " -0.635684\n",
       "  1.07418 \n",
       " -0.544019\n",
       "  0.277671\n",
       "  0.822225"
      ]
     },
     "execution_count": 10,
     "metadata": {},
     "output_type": "execute_result"
    }
   ],
   "source": [
    "xs = randn(10)"
   ]
  },
  {
   "cell_type": "code",
   "execution_count": 11,
   "metadata": {
    "collapsed": false
   },
   "outputs": [
    {
     "data": {
      "text/plain": [
       "1×10 RowVector{Float64,Array{Float64,1}}:\n",
       " 0.690177  0.635446  -0.999397  -1.09674  …  -0.544019  0.277671  0.822225"
      ]
     },
     "execution_count": 11,
     "metadata": {},
     "output_type": "execute_result"
    }
   ],
   "source": [
    "xs'"
   ]
  },
  {
   "cell_type": "code",
   "execution_count": 12,
   "metadata": {
    "collapsed": false
   },
   "outputs": [
    {
     "data": {
      "text/plain": [
       "20-element Array{Float64,1}:\n",
       "  0.0238187 \n",
       " -0.0180387 \n",
       " -0.0171436 \n",
       "  0.0422084 \n",
       "  0.00666309\n",
       " -0.0101001 \n",
       " -0.011946  \n",
       " -0.0223717 \n",
       " -0.0820323 \n",
       "  0.0161766 \n",
       " -0.0279331 \n",
       " -0.00801462\n",
       " -0.0409068 \n",
       " -0.0341027 \n",
       "  0.0290367 \n",
       " -0.0221428 \n",
       " -0.0277078 \n",
       " -0.0215437 \n",
       "  0.0298833 \n",
       " -0.0246329 "
      ]
     },
     "execution_count": 12,
     "metadata": {},
     "output_type": "execute_result"
    }
   ],
   "source": [
    "d(xs)"
   ]
  },
  {
   "cell_type": "code",
   "execution_count": 13,
   "metadata": {
    "collapsed": false
   },
   "outputs": [
    {
     "data": {
      "text/plain": [
       "20-element Array{Float64,1}:\n",
       "  0.0238187 \n",
       " -0.0180387 \n",
       " -0.0171436 \n",
       "  0.0422084 \n",
       "  0.00666309\n",
       " -0.0101001 \n",
       " -0.011946  \n",
       " -0.0223717 \n",
       " -0.0820323 \n",
       "  0.0161766 \n",
       " -0.0279331 \n",
       " -0.00801462\n",
       " -0.0409068 \n",
       " -0.0341027 \n",
       "  0.0290367 \n",
       " -0.0221428 \n",
       " -0.0277078 \n",
       " -0.0215437 \n",
       "  0.0298833 \n",
       " -0.0246329 "
      ]
     },
     "execution_count": 13,
     "metadata": {},
     "output_type": "execute_result"
    }
   ],
   "source": [
    "(xs'*d.W.x + d.b.x)[1,:]"
   ]
  },
  {
   "cell_type": "code",
   "execution_count": 14,
   "metadata": {
    "collapsed": false
   },
   "outputs": [],
   "source": [
    "import MacroTools: @capture, prettify"
   ]
  },
  {
   "cell_type": "markdown",
   "metadata": {},
   "source": [
    "- https://github.com/MikeInnes/MacroTools.jl/blob/master/test/runtests.jl"
   ]
  },
  {
   "cell_type": "code",
   "execution_count": 15,
   "metadata": {
    "collapsed": false
   },
   "outputs": [
    {
     "data": {
      "text/plain": [
       "(:Foo, Any[:(x::Int), :y])"
      ]
     },
     "execution_count": 15,
     "metadata": {},
     "output_type": "execute_result"
    }
   ],
   "source": [
    "ex = :(type Foo\n",
    "           x::Int\n",
    "           y\n",
    "         end)\n",
    "\n",
    "@capture(ex, type T_ fields__ end)\n",
    "\n",
    "T, fields"
   ]
  },
  {
   "cell_type": "code",
   "execution_count": 16,
   "metadata": {
    "collapsed": true
   },
   "outputs": [],
   "source": [
    "import DataFlow: Vertex, Frame, Line"
   ]
  },
  {
   "cell_type": "code",
   "execution_count": 17,
   "metadata": {
    "collapsed": false
   },
   "outputs": [
    {
     "data": {
      "text/plain": [
       "syntax (generic function with 2 methods)"
      ]
     },
     "execution_count": 17,
     "metadata": {},
     "output_type": "execute_result"
    }
   ],
   "source": [
    "syntax(v::Vertex) = prettify(DataFlow.syntax(v))\n",
    "syntax(x) = syntax(Flux.graph(x))"
   ]
  },
  {
   "cell_type": "code",
   "execution_count": 18,
   "metadata": {
    "collapsed": false
   },
   "outputs": [
    {
     "data": {
      "text/plain": [
       "true"
      ]
     },
     "execution_count": 18,
     "metadata": {},
     "output_type": "execute_result"
    }
   ],
   "source": [
    "@capture(syntax(d), _Frame(_Line(x_[1] * W_ + b_)))"
   ]
  },
  {
   "cell_type": "code",
   "execution_count": 19,
   "metadata": {
    "collapsed": false
   },
   "outputs": [
    {
     "data": {
      "text/plain": [
       "true"
      ]
     },
     "execution_count": 19,
     "metadata": {},
     "output_type": "execute_result"
    }
   ],
   "source": [
    "isa(x, DataFlow.Input)"
   ]
  },
  {
   "cell_type": "code",
   "execution_count": 21,
   "metadata": {
    "collapsed": false
   },
   "outputs": [
    {
     "data": {
      "text/plain": [
       "true"
      ]
     },
     "execution_count": 21,
     "metadata": {},
     "output_type": "execute_result"
    }
   ],
   "source": [
    "isa(W, Flux.Param)"
   ]
  },
  {
   "cell_type": "code",
   "execution_count": 22,
   "metadata": {
    "collapsed": false
   },
   "outputs": [
    {
     "data": {
      "text/plain": [
       "true"
      ]
     },
     "execution_count": 22,
     "metadata": {},
     "output_type": "execute_result"
    }
   ],
   "source": [
    "isa(b, Flux.Param)"
   ]
  },
  {
   "cell_type": "code",
   "execution_count": 23,
   "metadata": {
    "collapsed": false
   },
   "outputs": [
    {
     "data": {
      "text/plain": [
       "quote \n",
       "    (DataFlow.Frame{Flux.Affine}(Flux.Affine(Param(10, 20), Param(1, 20))))((DataFlow.Line(\"/Users/wookyoung/.julia/v0.6/Flux/src/layers/affine.jl\", 6))((DataFlow.Input())[1] * Param(10, 20) + Param(1, 20)))\n",
       "end"
      ]
     },
     "execution_count": 23,
     "metadata": {},
     "output_type": "execute_result"
    }
   ],
   "source": [
    "syntax(d)"
   ]
  },
  {
   "cell_type": "code",
   "execution_count": 24,
   "metadata": {
    "collapsed": false
   },
   "outputs": [
    {
     "data": {
      "text/plain": [
       "Flux.Affine(Param(20, 15), Param(1, 15))"
      ]
     },
     "execution_count": 24,
     "metadata": {},
     "output_type": "execute_result"
    }
   ],
   "source": [
    "a1 = Affine(10, 20)\n",
    "a2 = Affine(20, 15)"
   ]
  },
  {
   "cell_type": "code",
   "execution_count": 25,
   "metadata": {
    "collapsed": true
   },
   "outputs": [],
   "source": [
    "@net type TLP\n",
    "  first\n",
    "  second\n",
    "  function (x)\n",
    "    l1 = σ(first(x))\n",
    "    l2 = softmax(second(l1))\n",
    "  end\n",
    "end"
   ]
  },
  {
   "cell_type": "code",
   "execution_count": 26,
   "metadata": {
    "collapsed": false
   },
   "outputs": [
    {
     "data": {
      "text/plain": [
       "TLP(Flux.Affine(Param(10, 20), Param(1, 20)), Flux.Affine(Param(20, 15), Param(1, 15)))"
      ]
     },
     "execution_count": 26,
     "metadata": {},
     "output_type": "execute_result"
    }
   ],
   "source": [
    "tlp = TLP(a1, a2)"
   ]
  },
  {
   "cell_type": "code",
   "execution_count": 27,
   "metadata": {
    "collapsed": false
   },
   "outputs": [
    {
     "data": {
      "text/plain": [
       "15-element Array{Float64,1}:\n",
       " 0.0643905\n",
       " 0.0678188\n",
       " 0.0635445\n",
       " 0.0661395\n",
       " 0.0659194\n",
       " 0.0690557\n",
       " 0.0672961\n",
       " 0.0691278\n",
       " 0.068481 \n",
       " 0.0680034\n",
       " 0.0663559\n",
       " 0.065183 \n",
       " 0.0665391\n",
       " 0.0634061\n",
       " 0.0687392"
      ]
     },
     "execution_count": 27,
     "metadata": {},
     "output_type": "execute_result"
    }
   ],
   "source": [
    "tlp(xs)"
   ]
  },
  {
   "cell_type": "code",
   "execution_count": 28,
   "metadata": {
    "collapsed": false
   },
   "outputs": [
    {
     "data": {
      "text/plain": [
       "15-element Array{Float64,1}:\n",
       " 0.0643905\n",
       " 0.0678188\n",
       " 0.0635445\n",
       " 0.0661395\n",
       " 0.0659194\n",
       " 0.0690557\n",
       " 0.0672961\n",
       " 0.0691278\n",
       " 0.068481 \n",
       " 0.0680034\n",
       " 0.0663559\n",
       " 0.065183 \n",
       " 0.0665391\n",
       " 0.0634061\n",
       " 0.0687392"
      ]
     },
     "execution_count": 28,
     "metadata": {},
     "output_type": "execute_result"
    }
   ],
   "source": [
    "softmax(a2(σ(a1(xs))))"
   ]
  },
  {
   "cell_type": "code",
   "execution_count": 29,
   "metadata": {
    "collapsed": false
   },
   "outputs": [
    {
     "data": {
      "text/plain": [
       "15-element Array{Float64,1}:\n",
       " 0.0643905\n",
       " 0.0678188\n",
       " 0.0635445\n",
       " 0.0661395\n",
       " 0.0659194\n",
       " 0.0690557\n",
       " 0.0672961\n",
       " 0.0691278\n",
       " 0.068481 \n",
       " 0.0680034\n",
       " 0.0663559\n",
       " 0.065183 \n",
       " 0.0665391\n",
       " 0.0634061\n",
       " 0.0687392"
      ]
     },
     "execution_count": 29,
     "metadata": {},
     "output_type": "execute_result"
    }
   ],
   "source": [
    "Flux.interpmodel(tlp, xs)"
   ]
  },
  {
   "cell_type": "code",
   "execution_count": 31,
   "metadata": {
    "collapsed": false
   },
   "outputs": [
    {
     "data": {
      "text/plain": [
       "(1, 15)"
      ]
     },
     "execution_count": 31,
     "metadata": {},
     "output_type": "execute_result"
    }
   ],
   "source": [
    "Flux.infer(tlp, (1, 10))"
   ]
  },
  {
   "cell_type": "code",
   "execution_count": 32,
   "metadata": {
    "collapsed": false
   },
   "outputs": [
    {
     "data": {
      "text/plain": [
       "TLP(Flux.Affine(Param(10, 21), Param(1, 21)), Flux.Affine(Param(20, 15), Param(1, 15)))"
      ]
     },
     "execution_count": 32,
     "metadata": {},
     "output_type": "execute_result"
    }
   ],
   "source": [
    "tlp = TLP(Affine(10, 21), Affine(20, 15))"
   ]
  },
  {
   "cell_type": "code",
   "execution_count": 33,
   "metadata": {
    "collapsed": false
   },
   "outputs": [
    {
     "ename": "LoadError",
     "evalue": "\u001b[91mDimensionMismatch(\"A has dimensions (1,21) but B has dimensions (20,15)\")\ngemm_wrapper!(::Array{Float64,2}, ::Char, ::Char, ::Array{Float64,2}, ::Array{Float64,2}) at matmul.jl:347\n*(::Array{Float64,2}, ::Array{Float64,2}) at matmul.jl:148\nmacro expansion at interpreter.jl:135 [inlined]\nFlux.Affine at affine.jl:6\nTLP at In[25]:6\u001b[39m",
     "output_type": "error",
     "traceback": [
      "\u001b[91mDimensionMismatch(\"A has dimensions (1,21) but B has dimensions (20,15)\")\ngemm_wrapper!(::Array{Float64,2}, ::Char, ::Char, ::Array{Float64,2}, ::Array{Float64,2}) at matmul.jl:347\n*(::Array{Float64,2}, ::Array{Float64,2}) at matmul.jl:148\nmacro expansion at interpreter.jl:135 [inlined]\nFlux.Affine at affine.jl:6\nTLP at In[25]:6\u001b[39m",
      "",
      "Stacktrace:",
      " [1] \u001b[1minterpmodel\u001b[22m\u001b[22m\u001b[1m(\u001b[22m\u001b[22m::TLP, ::Array{Float64,1}, ::Vararg{Array{Float64,1},N} where N\u001b[1m)\u001b[22m\u001b[22m at \u001b[1m/Users/wookyoung/.julia/v0.6/Flux/src/compiler/interp.jl:42\u001b[22m\u001b[22m"
     ]
    }
   ],
   "source": [
    "Flux.interpmodel(tlp, rand(10))"
   ]
  },
  {
   "cell_type": "code",
   "execution_count": 34,
   "metadata": {
    "collapsed": true
   },
   "outputs": [],
   "source": [
    "@net type Multi\n",
    "  W\n",
    "  V\n",
    "  x -> (x*W, x*V)\n",
    "end"
   ]
  },
  {
   "cell_type": "code",
   "execution_count": 35,
   "metadata": {
    "collapsed": false
   },
   "outputs": [
    {
     "data": {
      "text/plain": [
       "Multi"
      ]
     },
     "execution_count": 35,
     "metadata": {},
     "output_type": "execute_result"
    }
   ],
   "source": [
    "Multi(in::Integer, out::Integer) =\n",
    "  Multi(randn(in, out), randn(in, out))"
   ]
  },
  {
   "cell_type": "code",
   "execution_count": 36,
   "metadata": {
    "collapsed": false
   },
   "outputs": [
    {
     "data": {
      "text/plain": [
       "Multi(Param(10, 15), Param(10, 15))"
      ]
     },
     "execution_count": 36,
     "metadata": {},
     "output_type": "execute_result"
    }
   ],
   "source": [
    "m = Multi(10, 15)"
   ]
  },
  {
   "cell_type": "code",
   "execution_count": 37,
   "metadata": {
    "collapsed": false
   },
   "outputs": [
    {
     "data": {
      "text/plain": [
       "10-element Array{Float64,1}:\n",
       " 0.452715 \n",
       " 0.219712 \n",
       " 0.985799 \n",
       " 0.208445 \n",
       " 0.936414 \n",
       " 0.0946796\n",
       " 0.272646 \n",
       " 0.546986 \n",
       " 0.821425 \n",
       " 0.728793 "
      ]
     },
     "execution_count": 37,
     "metadata": {},
     "output_type": "execute_result"
    }
   ],
   "source": [
    "x = rand(10)"
   ]
  },
  {
   "cell_type": "code",
   "execution_count": 38,
   "metadata": {
    "collapsed": false
   },
   "outputs": [
    {
     "data": {
      "text/plain": [
       "([-0.05662, -1.52785, 3.11033, -1.22349, 1.64174, 0.372882, -1.2235, -2.56261, 0.764264, 1.36636, 0.404385, -0.206422, -1.5127, -4.71102, -0.939239], [-1.16133, -0.163483, 3.16458, -0.25765, -4.48223, 2.58238, 2.7148, 1.07683, -1.48778, 1.87849, 0.0147316, -0.787723, -1.94983, 0.215017, -0.250342])"
      ]
     },
     "execution_count": 38,
     "metadata": {},
     "output_type": "execute_result"
    }
   ],
   "source": [
    "m(x)"
   ]
  },
  {
   "cell_type": "code",
   "execution_count": 39,
   "metadata": {
    "collapsed": false
   },
   "outputs": [
    {
     "data": {
      "text/plain": [
       "([-0.05662, -1.52785, 3.11033, -1.22349, 1.64174, 0.372882, -1.2235, -2.56261, 0.764264, 1.36636, 0.404385, -0.206422, -1.5127, -4.71102, -0.939239], [-1.16133, -0.163483, 3.16458, -0.25765, -4.48223, 2.58238, 2.7148, 1.07683, -1.48778, 1.87849, 0.0147316, -0.787723, -1.94983, 0.215017, -0.250342])"
      ]
     },
     "execution_count": 39,
     "metadata": {},
     "output_type": "execute_result"
    }
   ],
   "source": [
    "m.W.x' * x, m.V.x' * x"
   ]
  },
  {
   "cell_type": "code",
   "execution_count": 40,
   "metadata": {
    "collapsed": false
   },
   "outputs": [
    {
     "data": {
      "text/plain": [
       "10×15 Array{Float64,2}:\n",
       " -1.96103   -0.603006   0.264629   …   1.29825    -0.85077   -0.0811299\n",
       "  2.39252    0.499983   1.74642       -0.118268   -1.30148    1.73879  \n",
       " -0.642336  -0.395516   1.87284       -0.330013   -1.82771   -1.95884  \n",
       " -1.8794    -0.429044  -0.136322       0.978635   -0.885581   0.851439 \n",
       "  1.09666   -1.1184    -0.521878      -1.70312     0.733738  -0.762071 \n",
       "  1.67215   -0.811362  -0.0447819  …   0.716479   -0.532388   0.624231 \n",
       " -0.373098   0.141492   0.0019943     -2.85764    -2.81809   -0.56464  \n",
       " -0.608304   2.07675    0.925841       0.14026    -2.46116   -0.0302402\n",
       "  1.11101   -0.661663   0.600357       0.324568   -0.571154   0.256782 \n",
       " -0.456829  -0.538302   0.386686       0.0132647  -0.146152   1.48612  "
      ]
     },
     "execution_count": 40,
     "metadata": {},
     "output_type": "execute_result"
    }
   ],
   "source": [
    "m.W.x"
   ]
  },
  {
   "cell_type": "code",
   "execution_count": 41,
   "metadata": {
    "collapsed": false
   },
   "outputs": [
    {
     "data": {
      "text/plain": [
       "15×10 Array{Float64,2}:\n",
       " -1.96103     2.39252    -0.642336   …  -0.608304    1.11101     -0.456829 \n",
       " -0.603006    0.499983   -0.395516       2.07675    -0.661663    -0.538302 \n",
       "  0.264629    1.74642     1.87284        0.925841    0.600357     0.386686 \n",
       " -0.771236   -1.79629    -1.13419        0.641805   -0.420057     0.372418 \n",
       "  0.783025    0.53719     1.01664        1.20852    -0.717561     0.448177 \n",
       "  0.098429    0.0080887   0.382878   …  -0.186276   -0.293065     0.149646 \n",
       " -0.881812    0.943892   -1.12304       -0.933264    1.1121       0.414401 \n",
       " -2.38588     0.982202    0.300176      -0.828431    0.0283554   -1.05016  \n",
       "  1.36763     0.0139363  -0.0485722     -0.176648    1.2659      -1.26612  \n",
       "  1.62716     1.79359    -1.18359       -0.341742    0.00435451  -0.263447 \n",
       "  0.988859    1.48088     0.193334   …  -0.388342   -1.50635      0.180895 \n",
       " -0.0983973  -0.244038    0.132906      -0.534561   -0.967339     1.34735  \n",
       "  1.29825    -0.118268   -0.330013       0.14026     0.324568     0.0132647\n",
       " -0.85077    -1.30148    -1.82771       -2.46116    -0.571154    -0.146152 \n",
       " -0.0811299   1.73879    -1.95884       -0.0302402   0.256782     1.48612  "
      ]
     },
     "execution_count": 41,
     "metadata": {},
     "output_type": "execute_result"
    }
   ],
   "source": [
    "m.W.x'"
   ]
  },
  {
   "cell_type": "code",
   "execution_count": 42,
   "metadata": {
    "collapsed": false
   },
   "outputs": [
    {
     "data": {
      "text/plain": [
       "15-element Array{Float64,1}:\n",
       " -0.05662 \n",
       " -1.52785 \n",
       "  3.11033 \n",
       " -1.22349 \n",
       "  1.64174 \n",
       "  0.372882\n",
       " -1.2235  \n",
       " -2.56261 \n",
       "  0.764264\n",
       "  1.36636 \n",
       "  0.404385\n",
       " -0.206422\n",
       " -1.5127  \n",
       " -4.71102 \n",
       " -0.939239"
      ]
     },
     "execution_count": 42,
     "metadata": {},
     "output_type": "execute_result"
    }
   ],
   "source": [
    "m.W.x' * x"
   ]
  },
  {
   "cell_type": "code",
   "execution_count": 43,
   "metadata": {
    "collapsed": false
   },
   "outputs": [
    {
     "data": {
      "text/plain": [
       "10×15 Array{Float64,2}:\n",
       "  0.193503     0.689143   0.537524   …  -0.850492   0.19301   -1.15299 \n",
       "  0.342647     0.360154  -1.8107        -0.744983   1.19866   -0.229221\n",
       " -0.884546    -0.957047   1.10179        0.174763   1.44248   -0.701246\n",
       " -0.486128    -2.2671     0.417757      -0.410877  -0.836741  -1.93144 \n",
       "  1.3712       0.301978  -0.222638       0.177633  -0.771359   1.47177 \n",
       "  1.24379      1.70692    0.327454   …   1.46987   -1.81393   -1.376   \n",
       " -0.00315768   0.564774  -1.81051       -0.975201  -0.370144   0.180406\n",
       " -2.16423     -1.10876   -0.0798703     -1.29728   -0.220502   0.219184\n",
       " -1.20697      0.3908     2.1446        -0.688789  -0.463451  -0.441606\n",
       "  0.580984     0.752632   1.50799       -0.345765   0.155009   0.496224"
      ]
     },
     "execution_count": 43,
     "metadata": {},
     "output_type": "execute_result"
    }
   ],
   "source": [
    "m.V.x"
   ]
  },
  {
   "cell_type": "code",
   "execution_count": 44,
   "metadata": {
    "collapsed": false
   },
   "outputs": [
    {
     "data": {
      "text/plain": [
       "15×10 Array{Float64,2}:\n",
       "  0.193503    0.342647   -0.884546   …  -2.16423    -1.20697    0.580984 \n",
       "  0.689143    0.360154   -0.957047      -1.10876     0.3908     0.752632 \n",
       "  0.537524   -1.8107      1.10179       -0.0798703   2.1446     1.50799  \n",
       "  0.786463    0.380352   -0.5591         0.110839   -2.54652    2.38466  \n",
       " -1.29961    -0.643835   -0.751694      -2.1297      1.07824   -1.23482  \n",
       "  0.0507642   0.780531   -0.0960848  …   1.80282    -0.608522   1.3414   \n",
       " -0.204476   -1.13455     0.762329       2.61979     1.06544    0.0517922\n",
       "  0.530566    0.0228229   0.786952      -1.37632     1.15193    0.15609  \n",
       "  0.227821   -3.18717    -0.947255       1.35863    -1.34612    0.235321 \n",
       "  0.776139    0.20056    -0.470534       0.886377   -0.926273   2.34743  \n",
       " -0.0480958  -0.896574   -0.843011   …   1.1115     -0.312317   0.750245 \n",
       "  1.00079    -0.12308    -0.491797      -1.24583    -0.267115  -0.53116  \n",
       " -0.850492   -0.744983    0.174763      -1.29728    -0.688789  -0.345765 \n",
       "  0.19301     1.19866     1.44248       -0.220502   -0.463451   0.155009 \n",
       " -1.15299    -0.229221   -0.701246       0.219184   -0.441606   0.496224 "
      ]
     },
     "execution_count": 44,
     "metadata": {},
     "output_type": "execute_result"
    }
   ],
   "source": [
    "m.V.x'"
   ]
  },
  {
   "cell_type": "code",
   "execution_count": 45,
   "metadata": {
    "collapsed": false
   },
   "outputs": [
    {
     "data": {
      "text/plain": [
       "15-element Array{Float64,1}:\n",
       " -1.16133  \n",
       " -0.163483 \n",
       "  3.16458  \n",
       " -0.25765  \n",
       " -4.48223  \n",
       "  2.58238  \n",
       "  2.7148   \n",
       "  1.07683  \n",
       " -1.48778  \n",
       "  1.87849  \n",
       "  0.0147316\n",
       " -0.787723 \n",
       " -1.94983  \n",
       "  0.215017 \n",
       " -0.250342 "
      ]
     },
     "execution_count": 45,
     "metadata": {},
     "output_type": "execute_result"
    }
   ],
   "source": [
    "m.V.x' * x"
   ]
  },
  {
   "cell_type": "code",
   "execution_count": 46,
   "metadata": {
    "collapsed": false
   },
   "outputs": [
    {
     "name": "stdout",
     "output_type": "stream",
     "text": [
      "((m.W.x)' * x, (m.V.x)' * x) = ([-0.05662, -1.52785, 3.11033, -1.22349, 1.64174, 0.372882, -1.2235, -2.56261, 0.764264, 1.36636, 0.404385, -0.206422, -1.5127, -4.71102, -0.939239], [-1.16133, -0.163483, 3.16458, -0.25765, -4.48223, 2.58238, 2.7148, 1.07683, -1.48778, 1.87849, 0.0147316, -0.787723, -1.94983, 0.215017, -0.250342])\n"
     ]
    },
    {
     "data": {
      "text/plain": [
       "([-0.05662, -1.52785, 3.11033, -1.22349, 1.64174, 0.372882, -1.2235, -2.56261, 0.764264, 1.36636, 0.404385, -0.206422, -1.5127, -4.71102, -0.939239], [-1.16133, -0.163483, 3.16458, -0.25765, -4.48223, 2.58238, 2.7148, 1.07683, -1.48778, 1.87849, 0.0147316, -0.787723, -1.94983, 0.215017, -0.250342])"
      ]
     },
     "execution_count": 46,
     "metadata": {},
     "output_type": "execute_result"
    }
   ],
   "source": [
    "@show m.W.x' * x, m.V.x' * x"
   ]
  }
 ],
 "metadata": {
  "kernelspec": {
   "display_name": "Julia 0.6.0-dev",
   "language": "julia",
   "name": "julia-0.6"
  },
  "language_info": {
   "file_extension": ".jl",
   "mimetype": "application/julia",
   "name": "julia",
   "version": "0.6.0"
  }
 },
 "nbformat": 4,
 "nbformat_minor": 2
}
